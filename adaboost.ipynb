{
 "cells": [
  {
   "cell_type": "code",
   "execution_count": 1,
   "id": "e2115af5-2091-4115-bcfd-a0cbdaf669b2",
   "metadata": {},
   "outputs": [],
   "source": [
    "from warnings import filterwarnings"
   ]
  },
  {
   "cell_type": "code",
   "execution_count": 3,
   "id": "6f291743-692a-4a0e-ac5a-bd3786229123",
   "metadata": {},
   "outputs": [],
   "source": [
    "filterwarnings('ignore')"
   ]
  },
  {
   "cell_type": "code",
   "execution_count": 5,
   "id": "cc76959d-eec6-42ac-901f-2a467d2d7d82",
   "metadata": {},
   "outputs": [],
   "source": [
    "import pandas as pd"
   ]
  },
  {
   "cell_type": "code",
   "execution_count": 9,
   "id": "3298172d-cc1d-4e92-9e80-da3575be15b3",
   "metadata": {},
   "outputs": [],
   "source": [
    "from sklearn import model_selection"
   ]
  },
  {
   "cell_type": "code",
   "execution_count": 11,
   "id": "6be7f240-505a-4107-a112-6a567a9def3e",
   "metadata": {},
   "outputs": [],
   "source": [
    "from sklearn.ensemble import AdaBoostClassifier"
   ]
  },
  {
   "cell_type": "code",
   "execution_count": 13,
   "id": "55fbf8aa-4518-49a9-817a-93b5c95b70e2",
   "metadata": {},
   "outputs": [],
   "source": [
    "url = \"https://raw.githubusercontent.com/jbrownlee/Datasets/master/pima-indians-diabetes.data.csv\""
   ]
  },
  {
   "cell_type": "code",
   "execution_count": 15,
   "id": "06c42cf0-11a0-4b08-bde4-69c3e1ed395d",
   "metadata": {},
   "outputs": [],
   "source": [
    "names = ['preg', 'plas', 'pres', 'skin', 'test', 'mass', 'pedi', 'age', 'class']"
   ]
  },
  {
   "cell_type": "code",
   "execution_count": 17,
   "id": "27f0e51e-9fef-400d-987a-cdc43e8bbd5d",
   "metadata": {},
   "outputs": [],
   "source": [
    "dataframe = pd.read_csv(url, names = names)"
   ]
  },
  {
   "cell_type": "code",
   "execution_count": 19,
   "id": "04d2fcc8-3ea3-480a-8626-534ad7c2aadc",
   "metadata": {},
   "outputs": [],
   "source": [
    "array = dataframe.values"
   ]
  },
  {
   "cell_type": "code",
   "execution_count": 21,
   "id": "bd10d79d-4c51-4e53-b874-e6b96aaa75f1",
   "metadata": {},
   "outputs": [],
   "source": [
    "x = array[:, 0:8]"
   ]
  },
  {
   "cell_type": "code",
   "execution_count": 23,
   "id": "6d0a92ea-1202-44f9-885e-33b5be50b290",
   "metadata": {},
   "outputs": [],
   "source": [
    "y = array[:, 8]"
   ]
  },
  {
   "cell_type": "code",
   "execution_count": 25,
   "id": "dc11bf32-21b9-4c4d-9fda-0b6deddd2c17",
   "metadata": {},
   "outputs": [],
   "source": [
    "seed = 7"
   ]
  },
  {
   "cell_type": "code",
   "execution_count": 27,
   "id": "4663e9da-6143-4eea-bcf4-252ebbd06aad",
   "metadata": {},
   "outputs": [],
   "source": [
    "num_trees = 30"
   ]
  },
  {
   "cell_type": "code",
   "execution_count": 29,
   "id": "b3317c67-fd8e-4558-98ff-6c81c62adcd2",
   "metadata": {},
   "outputs": [],
   "source": [
    "model = AdaBoostClassifier(n_estimators = num_trees, random_state = seed)"
   ]
  },
  {
   "cell_type": "code",
   "execution_count": 31,
   "id": "3f2a5c85-544a-4a79-9aad-7bdf955344dc",
   "metadata": {},
   "outputs": [],
   "source": [
    "result = model_selection.cross_val_score(model, x, y)"
   ]
  },
  {
   "cell_type": "code",
   "execution_count": 33,
   "id": "051a6fb1-36d4-4aeb-9d76-8886412bb1f1",
   "metadata": {},
   "outputs": [
    {
     "name": "stdout",
     "output_type": "stream",
     "text": [
      "0.7617774382480265\n"
     ]
    }
   ],
   "source": [
    "print(result.mean())"
   ]
  },
  {
   "cell_type": "code",
   "execution_count": null,
   "id": "468c5db5-9217-471b-abc9-dbaae278f2d9",
   "metadata": {},
   "outputs": [],
   "source": []
  }
 ],
 "metadata": {
  "kernelspec": {
   "display_name": "Python 3 (ipykernel)",
   "language": "python",
   "name": "python3"
  },
  "language_info": {
   "codemirror_mode": {
    "name": "ipython",
    "version": 3
   },
   "file_extension": ".py",
   "mimetype": "text/x-python",
   "name": "python",
   "nbconvert_exporter": "python",
   "pygments_lexer": "ipython3",
   "version": "3.12.4"
  }
 },
 "nbformat": 4,
 "nbformat_minor": 5
}
